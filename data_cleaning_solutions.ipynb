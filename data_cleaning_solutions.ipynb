{
  "nbformat": 4,
  "nbformat_minor": 0,
  "metadata": {
    "colab": {
      "name": "[YCMI_CBDS Summer Course] data-cleaning-solutions",
      "provenance": [],
      "collapsed_sections": []
    },
    "kernelspec": {
      "name": "python3",
      "display_name": "Python 3"
    }
  },
  "cells": [
    {
      "cell_type": "markdown",
      "metadata": {
        "id": "yxvkM7TcSr-i",
        "colab_type": "text"
      },
      "source": [
        "Let's go ahead and setup our usual libraries:"
      ]
    },
    {
      "cell_type": "code",
      "metadata": {
        "id": "zkscuS3gSsow",
        "colab_type": "code",
        "colab": {}
      },
      "source": [
        "import pandas as pd\n",
        "import plotnine as p9"
      ],
      "execution_count": 0,
      "outputs": []
    },
    {
      "cell_type": "markdown",
      "metadata": {
        "id": "O3X9ZSINnnPI",
        "colab_type": "text"
      },
      "source": [
        "And the connection to Google Drive to get the course data:"
      ]
    },
    {
      "cell_type": "code",
      "metadata": {
        "id": "iW2VHPq0nqZF",
        "colab_type": "code",
        "colab": {
          "base_uri": "https://localhost:8080/",
          "height": 34
        },
        "outputId": "47dd38aa-070d-459e-dd8d-28f832362c35"
      },
      "source": [
        "from google.colab import drive\n",
        "drive.mount('/content/gdrive')"
      ],
      "execution_count": 2,
      "outputs": [
        {
          "output_type": "stream",
          "text": [
            "Drive already mounted at /content/gdrive; to attempt to forcibly remount, call drive.mount(\"/content/gdrive\", force_remount=True).\n"
          ],
          "name": "stdout"
        }
      ]
    },
    {
      "cell_type": "markdown",
      "metadata": {
        "id": "WKsMHKQdQeoa",
        "colab_type": "text"
      },
      "source": [
        "### Tidy data"
      ]
    },
    {
      "cell_type": "markdown",
      "metadata": {
        "id": "85Ss4Q6Xn2H3",
        "colab_type": "text"
      },
      "source": [
        "Read some of the early Connecticut daily coronavirus case report data:"
      ]
    },
    {
      "cell_type": "code",
      "metadata": {
        "id": "yoixxQV5QjvK",
        "colab_type": "code",
        "colab": {}
      },
      "source": [
        "coronavirus = pd.read_csv('/content/gdrive/My Drive/[YCMI_CBDS Summer Course] Data/ct-coronavirus-counts.csv')"
      ],
      "execution_count": 0,
      "outputs": []
    },
    {
      "cell_type": "markdown",
      "metadata": {
        "id": "zWuLngbmoO45",
        "colab_type": "text"
      },
      "source": [
        "Preview the data by checking the `.head()`:"
      ]
    },
    {
      "cell_type": "code",
      "metadata": {
        "id": "Q-PtQVr2oRdM",
        "colab_type": "code",
        "colab": {
          "base_uri": "https://localhost:8080/",
          "height": 206
        },
        "outputId": "0b20e7a7-0709-4a84-91d6-2b948fa57e21"
      },
      "source": [
        "coronavirus.head()"
      ],
      "execution_count": 4,
      "outputs": [
        {
          "output_type": "execute_result",
          "data": {
            "text/html": [
              "<div>\n",
              "<style scoped>\n",
              "    .dataframe tbody tr th:only-of-type {\n",
              "        vertical-align: middle;\n",
              "    }\n",
              "\n",
              "    .dataframe tbody tr th {\n",
              "        vertical-align: top;\n",
              "    }\n",
              "\n",
              "    .dataframe thead th {\n",
              "        text-align: right;\n",
              "    }\n",
              "</style>\n",
              "<table border=\"1\" class=\"dataframe\">\n",
              "  <thead>\n",
              "    <tr style=\"text-align: right;\">\n",
              "      <th></th>\n",
              "      <th>Date</th>\n",
              "      <th>New Haven</th>\n",
              "      <th>Hamden</th>\n",
              "      <th>West Haven</th>\n",
              "      <th>Fairfield</th>\n",
              "      <th>Stamford</th>\n",
              "      <th>Danbury</th>\n",
              "    </tr>\n",
              "  </thead>\n",
              "  <tbody>\n",
              "    <tr>\n",
              "      <th>0</th>\n",
              "      <td>21-Mar-20</td>\n",
              "      <td>6</td>\n",
              "      <td>0</td>\n",
              "      <td>6</td>\n",
              "      <td>4</td>\n",
              "      <td>19</td>\n",
              "      <td>4</td>\n",
              "    </tr>\n",
              "    <tr>\n",
              "      <th>1</th>\n",
              "      <td>22-Mar-20</td>\n",
              "      <td>7</td>\n",
              "      <td>1</td>\n",
              "      <td>6</td>\n",
              "      <td>7</td>\n",
              "      <td>25</td>\n",
              "      <td>8</td>\n",
              "    </tr>\n",
              "    <tr>\n",
              "      <th>2</th>\n",
              "      <td>23-Mar-20</td>\n",
              "      <td>8</td>\n",
              "      <td>1</td>\n",
              "      <td>6</td>\n",
              "      <td>8</td>\n",
              "      <td>30</td>\n",
              "      <td>15</td>\n",
              "    </tr>\n",
              "    <tr>\n",
              "      <th>3</th>\n",
              "      <td>24-Mar-20</td>\n",
              "      <td>22</td>\n",
              "      <td>4</td>\n",
              "      <td>11</td>\n",
              "      <td>9</td>\n",
              "      <td>34</td>\n",
              "      <td>29</td>\n",
              "    </tr>\n",
              "    <tr>\n",
              "      <th>4</th>\n",
              "      <td>25-Mar-20</td>\n",
              "      <td>29</td>\n",
              "      <td>6</td>\n",
              "      <td>12</td>\n",
              "      <td>13</td>\n",
              "      <td>48</td>\n",
              "      <td>63</td>\n",
              "    </tr>\n",
              "  </tbody>\n",
              "</table>\n",
              "</div>"
            ],
            "text/plain": [
              "        Date  New Haven  Hamden  West Haven  Fairfield  Stamford  Danbury\n",
              "0  21-Mar-20          6       0           6          4        19        4\n",
              "1  22-Mar-20          7       1           6          7        25        8\n",
              "2  23-Mar-20          8       1           6          8        30       15\n",
              "3  24-Mar-20         22       4          11          9        34       29\n",
              "4  25-Mar-20         29       6          12         13        48       63"
            ]
          },
          "metadata": {
            "tags": []
          },
          "execution_count": 4
        }
      ]
    },
    {
      "cell_type": "markdown",
      "metadata": {
        "id": "6JI4tvcxqEZW",
        "colab_type": "text"
      },
      "source": [
        "**IS THIS TIDY DATA? WHY OR WHY NOT?**"
      ]
    },
    {
      "cell_type": "markdown",
      "metadata": {
        "id": "fv9eapzuovQ3",
        "colab_type": "text"
      },
      "source": [
        "The data here is based on the total counts as of the state's daily data releases. Changes in the number of reported cases do not necessarily correspond to the date people got sick or the date they were tested."
      ]
    },
    {
      "cell_type": "markdown",
      "metadata": {
        "id": "5oHfVo2vofqr",
        "colab_type": "text"
      },
      "source": [
        "Use `pd.to_datetime` to set the `Date` column to date objects."
      ]
    },
    {
      "cell_type": "code",
      "metadata": {
        "id": "TjvvMxlEopVq",
        "colab_type": "code",
        "colab": {}
      },
      "source": [
        "coronavirus['Date'] = pd.to_datetime(coronavirus['Date'])"
      ],
      "execution_count": 0,
      "outputs": []
    },
    {
      "cell_type": "code",
      "metadata": {
        "id": "q7mxK0hppwV-",
        "colab_type": "code",
        "colab": {
          "base_uri": "https://localhost:8080/",
          "height": 206
        },
        "outputId": "651afd11-179f-4021-9f92-063705b91d41"
      },
      "source": [
        "coronavirus.head()"
      ],
      "execution_count": 6,
      "outputs": [
        {
          "output_type": "execute_result",
          "data": {
            "text/html": [
              "<div>\n",
              "<style scoped>\n",
              "    .dataframe tbody tr th:only-of-type {\n",
              "        vertical-align: middle;\n",
              "    }\n",
              "\n",
              "    .dataframe tbody tr th {\n",
              "        vertical-align: top;\n",
              "    }\n",
              "\n",
              "    .dataframe thead th {\n",
              "        text-align: right;\n",
              "    }\n",
              "</style>\n",
              "<table border=\"1\" class=\"dataframe\">\n",
              "  <thead>\n",
              "    <tr style=\"text-align: right;\">\n",
              "      <th></th>\n",
              "      <th>Date</th>\n",
              "      <th>New Haven</th>\n",
              "      <th>Hamden</th>\n",
              "      <th>West Haven</th>\n",
              "      <th>Fairfield</th>\n",
              "      <th>Stamford</th>\n",
              "      <th>Danbury</th>\n",
              "    </tr>\n",
              "  </thead>\n",
              "  <tbody>\n",
              "    <tr>\n",
              "      <th>0</th>\n",
              "      <td>2020-03-21</td>\n",
              "      <td>6</td>\n",
              "      <td>0</td>\n",
              "      <td>6</td>\n",
              "      <td>4</td>\n",
              "      <td>19</td>\n",
              "      <td>4</td>\n",
              "    </tr>\n",
              "    <tr>\n",
              "      <th>1</th>\n",
              "      <td>2020-03-22</td>\n",
              "      <td>7</td>\n",
              "      <td>1</td>\n",
              "      <td>6</td>\n",
              "      <td>7</td>\n",
              "      <td>25</td>\n",
              "      <td>8</td>\n",
              "    </tr>\n",
              "    <tr>\n",
              "      <th>2</th>\n",
              "      <td>2020-03-23</td>\n",
              "      <td>8</td>\n",
              "      <td>1</td>\n",
              "      <td>6</td>\n",
              "      <td>8</td>\n",
              "      <td>30</td>\n",
              "      <td>15</td>\n",
              "    </tr>\n",
              "    <tr>\n",
              "      <th>3</th>\n",
              "      <td>2020-03-24</td>\n",
              "      <td>22</td>\n",
              "      <td>4</td>\n",
              "      <td>11</td>\n",
              "      <td>9</td>\n",
              "      <td>34</td>\n",
              "      <td>29</td>\n",
              "    </tr>\n",
              "    <tr>\n",
              "      <th>4</th>\n",
              "      <td>2020-03-25</td>\n",
              "      <td>29</td>\n",
              "      <td>6</td>\n",
              "      <td>12</td>\n",
              "      <td>13</td>\n",
              "      <td>48</td>\n",
              "      <td>63</td>\n",
              "    </tr>\n",
              "  </tbody>\n",
              "</table>\n",
              "</div>"
            ],
            "text/plain": [
              "        Date  New Haven  Hamden  West Haven  Fairfield  Stamford  Danbury\n",
              "0 2020-03-21          6       0           6          4        19        4\n",
              "1 2020-03-22          7       1           6          7        25        8\n",
              "2 2020-03-23          8       1           6          8        30       15\n",
              "3 2020-03-24         22       4          11          9        34       29\n",
              "4 2020-03-25         29       6          12         13        48       63"
            ]
          },
          "metadata": {
            "tags": []
          },
          "execution_count": 6
        }
      ]
    },
    {
      "cell_type": "markdown",
      "metadata": {
        "id": "tFQaCzyuqLkk",
        "colab_type": "text"
      },
      "source": [
        "Plot the number of cases in New Haven over time. Hint: you can rotate the x-axis labels by adding e.g. `p9.theme(axis_text_x=p9.element_text(angle=20))`.\n"
      ]
    },
    {
      "cell_type": "code",
      "metadata": {
        "id": "9cDA8-KvqQd_",
        "colab_type": "code",
        "colab": {
          "base_uri": "https://localhost:8080/",
          "height": 488
        },
        "outputId": "afdcdf9f-ed01-43f5-b9e4-8385f0ab69ed"
      },
      "source": [
        "p9.ggplot(coronavirus, p9.aes(x='Date', y='New Haven')) + p9.geom_line() + p9.theme(axis_text_x=p9.element_text(angle=20))"
      ],
      "execution_count": 7,
      "outputs": [
        {
          "output_type": "display_data",
          "data": {
            "image/png": "[encoded data removed]",
            "text/plain": [
              "<Figure size 640x480 with 1 Axes>"
            ]
          },
          "metadata": {
            "tags": []
          }
        },
        {
          "output_type": "execute_result",
          "data": {
            "text/plain": [
              "<ggplot: (-9223363287042412775)>"
            ]
          },
          "metadata": {
            "tags": []
          },
          "execution_count": 7
        }
      ]
    },
    {
      "cell_type": "markdown",
      "metadata": {
        "id": "12BPHwFMtG1T",
        "colab_type": "text"
      },
      "source": [
        "Switch to a semi-log-y graph by adding a scale transformation of `log10` to the y-axis; i.e. add `p9.scale_y_continuous(trans='log10')`"
      ]
    },
    {
      "cell_type": "code",
      "metadata": {
        "id": "NYXh4pWYtSy5",
        "colab_type": "code",
        "colab": {
          "base_uri": "https://localhost:8080/",
          "height": 488
        },
        "outputId": "0a2ae95f-63e3-4eeb-d22a-e11b7d75f6e0"
      },
      "source": [
        "p9.ggplot(coronavirus, p9.aes(x='Date', y='New Haven')) + p9.geom_line() + p9.theme(axis_text_x=p9.element_text(angle=20)) + p9.scale_y_continuous(trans='log10')"
      ],
      "execution_count": 8,
      "outputs": [
        {
          "output_type": "display_data",
          "data": {
            "image/png": "[encoded data removed]",
            "text/plain": [
              "<Figure size 640x480 with 1 Axes>"
            ]
          },
          "metadata": {
            "tags": []
          }
        },
        {
          "output_type": "execute_result",
          "data": {
            "text/plain": [
              "<ggplot: (-9223363287042410422)>"
            ]
          },
          "metadata": {
            "tags": []
          },
          "execution_count": 8
        }
      ]
    },
    {
      "cell_type": "markdown",
      "metadata": {
        "id": "Zh2GPSSntzc6",
        "colab_type": "text"
      },
      "source": [
        "The curve appears to be close to a straight line between April 5, 2020 and April 17, 2020. **What would a true straight line mean?**"
      ]
    },
    {
      "cell_type": "markdown",
      "metadata": {
        "id": "gUc7yfrpvNLI",
        "colab_type": "text"
      },
      "source": [
        "**How hard would it be to add curves for all the other cities in our dataset? What makes it hard?**"
      ]
    },
    {
      "cell_type": "markdown",
      "metadata": {
        "id": "bgbfMDZxuLSF",
        "colab_type": "text"
      },
      "source": [
        "Use `pd.melt` to turn the dataset into tidy data with three columns: `Date`, `City`, `Cases`. Verify that you did what you think you did.\n"
      ]
    },
    {
      "cell_type": "code",
      "metadata": {
        "id": "ymFYMpwxsfqx",
        "colab_type": "code",
        "colab": {
          "base_uri": "https://localhost:8080/",
          "height": 424
        },
        "outputId": "ce71a653-008f-4b43-eba5-7441cd7223a3"
      },
      "source": [
        "tidy_coronavirus = pd.melt(\n",
        "    coronavirus,\n",
        "    id_vars=['Date'],\n",
        "    value_vars=['New Haven', 'West Haven', 'Hamden', 'Fairfield', 'Stamford', 'Danbury'],\n",
        "    var_name='City',\n",
        "    value_name='Cases')\n",
        "\n",
        "tidy_coronavirus"
      ],
      "execution_count": 9,
      "outputs": [
        {
          "output_type": "execute_result",
          "data": {
            "text/html": [
              "<div>\n",
              "<style scoped>\n",
              "    .dataframe tbody tr th:only-of-type {\n",
              "        vertical-align: middle;\n",
              "    }\n",
              "\n",
              "    .dataframe tbody tr th {\n",
              "        vertical-align: top;\n",
              "    }\n",
              "\n",
              "    .dataframe thead th {\n",
              "        text-align: right;\n",
              "    }\n",
              "</style>\n",
              "<table border=\"1\" class=\"dataframe\">\n",
              "  <thead>\n",
              "    <tr style=\"text-align: right;\">\n",
              "      <th></th>\n",
              "      <th>Date</th>\n",
              "      <th>City</th>\n",
              "      <th>Cases</th>\n",
              "    </tr>\n",
              "  </thead>\n",
              "  <tbody>\n",
              "    <tr>\n",
              "      <th>0</th>\n",
              "      <td>2020-03-21</td>\n",
              "      <td>New Haven</td>\n",
              "      <td>6</td>\n",
              "    </tr>\n",
              "    <tr>\n",
              "      <th>1</th>\n",
              "      <td>2020-03-22</td>\n",
              "      <td>New Haven</td>\n",
              "      <td>7</td>\n",
              "    </tr>\n",
              "    <tr>\n",
              "      <th>2</th>\n",
              "      <td>2020-03-23</td>\n",
              "      <td>New Haven</td>\n",
              "      <td>8</td>\n",
              "    </tr>\n",
              "    <tr>\n",
              "      <th>3</th>\n",
              "      <td>2020-03-24</td>\n",
              "      <td>New Haven</td>\n",
              "      <td>22</td>\n",
              "    </tr>\n",
              "    <tr>\n",
              "      <th>4</th>\n",
              "      <td>2020-03-25</td>\n",
              "      <td>New Haven</td>\n",
              "      <td>29</td>\n",
              "    </tr>\n",
              "    <tr>\n",
              "      <th>...</th>\n",
              "      <td>...</td>\n",
              "      <td>...</td>\n",
              "      <td>...</td>\n",
              "    </tr>\n",
              "    <tr>\n",
              "      <th>163</th>\n",
              "      <td>2020-04-13</td>\n",
              "      <td>Danbury</td>\n",
              "      <td>726</td>\n",
              "    </tr>\n",
              "    <tr>\n",
              "      <th>164</th>\n",
              "      <td>2020-04-14</td>\n",
              "      <td>Danbury</td>\n",
              "      <td>740</td>\n",
              "    </tr>\n",
              "    <tr>\n",
              "      <th>165</th>\n",
              "      <td>2020-04-15</td>\n",
              "      <td>Danbury</td>\n",
              "      <td>754</td>\n",
              "    </tr>\n",
              "    <tr>\n",
              "      <th>166</th>\n",
              "      <td>2020-04-16</td>\n",
              "      <td>Danbury</td>\n",
              "      <td>776</td>\n",
              "    </tr>\n",
              "    <tr>\n",
              "      <th>167</th>\n",
              "      <td>2020-04-17</td>\n",
              "      <td>Danbury</td>\n",
              "      <td>828</td>\n",
              "    </tr>\n",
              "  </tbody>\n",
              "</table>\n",
              "<p>168 rows × 3 columns</p>\n",
              "</div>"
            ],
            "text/plain": [
              "          Date       City  Cases\n",
              "0   2020-03-21  New Haven      6\n",
              "1   2020-03-22  New Haven      7\n",
              "2   2020-03-23  New Haven      8\n",
              "3   2020-03-24  New Haven     22\n",
              "4   2020-03-25  New Haven     29\n",
              "..         ...        ...    ...\n",
              "163 2020-04-13    Danbury    726\n",
              "164 2020-04-14    Danbury    740\n",
              "165 2020-04-15    Danbury    754\n",
              "166 2020-04-16    Danbury    776\n",
              "167 2020-04-17    Danbury    828\n",
              "\n",
              "[168 rows x 3 columns]"
            ]
          },
          "metadata": {
            "tags": []
          },
          "execution_count": 9
        }
      ]
    },
    {
      "cell_type": "markdown",
      "metadata": {
        "id": "JRXFnmZqvlsl",
        "colab_type": "text"
      },
      "source": [
        "Now using this tidy version of the dataset, plot all the cities on the same graph (with a semi-log-y axis). You can do this in a single line not much longer than the line for plotting just New Haven."
      ]
    },
    {
      "cell_type": "code",
      "metadata": {
        "colab_type": "code",
        "outputId": "0c4cec77-3e49-4512-99d3-7739cdabd48b",
        "id": "EmkhkmRdv6Zm",
        "colab": {
          "base_uri": "https://localhost:8080/",
          "height": 523
        }
      },
      "source": [
        "p9.ggplot(tidy_coronavirus, p9.aes(x='Date', y='Cases', color='City')) + p9.geom_line() + p9.theme(axis_text_x=p9.element_text(angle=20)) + p9.scale_y_continuous(trans='log10')"
      ],
      "execution_count": 10,
      "outputs": [
        {
          "output_type": "stream",
          "text": [
            "/usr/local/lib/python3.6/dist-packages/pandas/core/series.py:679: RuntimeWarning: divide by zero encountered in log10\n",
            "  result = getattr(ufunc, method)(*inputs, **kwargs)\n"
          ],
          "name": "stderr"
        },
        {
          "output_type": "display_data",
          "data": {
            "image/png": "[encoded data removed]",
            "text/plain": [
              "<Figure size 640x480 with 1 Axes>"
            ]
          },
          "metadata": {
            "tags": []
          }
        },
        {
          "output_type": "execute_result",
          "data": {
            "text/plain": [
              "<ggplot: (8749812342648)>"
            ]
          },
          "metadata": {
            "tags": []
          },
          "execution_count": 10
        }
      ]
    },
    {
      "cell_type": "markdown",
      "metadata": {
        "id": "ihNs7Audwm1X",
        "colab_type": "text"
      },
      "source": [
        "Finally, add markers in addition to the lines to highlight the actual data points."
      ]
    },
    {
      "cell_type": "code",
      "metadata": {
        "id": "Y3M2gHPOwybE",
        "colab_type": "code",
        "colab": {
          "base_uri": "https://localhost:8080/",
          "height": 523
        },
        "outputId": "8b195b42-feca-4017-ba10-db5e6416c46a"
      },
      "source": [
        "p9.ggplot(tidy_coronavirus, p9.aes(x='Date', y='Cases', color='City')) + p9.geom_line() + p9.geom_point() + p9.theme(axis_text_x=p9.element_text(angle=20)) + p9.scale_y_continuous(trans='log10')"
      ],
      "execution_count": 11,
      "outputs": [
        {
          "output_type": "stream",
          "text": [
            "/usr/local/lib/python3.6/dist-packages/pandas/core/series.py:679: RuntimeWarning: divide by zero encountered in log10\n",
            "  result = getattr(ufunc, method)(*inputs, **kwargs)\n"
          ],
          "name": "stderr"
        },
        {
          "output_type": "display_data",
          "data": {
            "image/png": "[encoded data removed]",
            "text/plain": [
              "<Figure size 640x480 with 1 Axes>"
            ]
          },
          "metadata": {
            "tags": []
          }
        },
        {
          "output_type": "execute_result",
          "data": {
            "text/plain": [
              "<ggplot: (-9223363287044090059)>"
            ]
          },
          "metadata": {
            "tags": []
          },
          "execution_count": 11
        }
      ]
    },
    {
      "cell_type": "markdown",
      "metadata": {
        "id": "wOLcfV9nQkmF",
        "colab_type": "text"
      },
      "source": [
        "### Missing data"
      ]
    },
    {
      "cell_type": "markdown",
      "metadata": {
        "id": "0vcI29JsTKkO",
        "colab_type": "text"
      },
      "source": [
        "Let's load the \"Pima Indians Diabetes Database\" dataset from the web; this data comes from the National Institute of Diabetes and Digestive and Kidney Diseases circa 1990 and consists solely of women over age 21:"
      ]
    },
    {
      "cell_type": "code",
      "metadata": {
        "id": "cq5pYJe-Qvc5",
        "colab_type": "code",
        "colab": {}
      },
      "source": [
        "diabetes = pd.read_csv('https://raw.githubusercontent.com/susanli2016/Machine-Learning-with-Python/master/diabetes.csv')"
      ],
      "execution_count": 0,
      "outputs": []
    },
    {
      "cell_type": "markdown",
      "metadata": {
        "id": "awlwN8XnTRrC",
        "colab_type": "text"
      },
      "source": [
        "Examine the dataset."
      ]
    },
    {
      "cell_type": "code",
      "metadata": {
        "id": "TfcWtE10TOOu",
        "colab_type": "code",
        "colab": {
          "base_uri": "https://localhost:8080/",
          "height": 424
        },
        "outputId": "7edc02fd-aef5-4427-baa8-c2e47dbf6f2e"
      },
      "source": [
        "diabetes"
      ],
      "execution_count": 13,
      "outputs": [
        {
          "output_type": "execute_result",
          "data": {
            "text/html": [
              "<div>\n",
              "<style scoped>\n",
              "    .dataframe tbody tr th:only-of-type {\n",
              "        vertical-align: middle;\n",
              "    }\n",
              "\n",
              "    .dataframe tbody tr th {\n",
              "        vertical-align: top;\n",
              "    }\n",
              "\n",
              "    .dataframe thead th {\n",
              "        text-align: right;\n",
              "    }\n",
              "</style>\n",
              "<table border=\"1\" class=\"dataframe\">\n",
              "  <thead>\n",
              "    <tr style=\"text-align: right;\">\n",
              "      <th></th>\n",
              "      <th>Pregnancies</th>\n",
              "      <th>Glucose</th>\n",
              "      <th>BloodPressure</th>\n",
              "      <th>SkinThickness</th>\n",
              "      <th>Insulin</th>\n",
              "      <th>BMI</th>\n",
              "      <th>DiabetesPedigreeFunction</th>\n",
              "      <th>Age</th>\n",
              "      <th>Outcome</th>\n",
              "    </tr>\n",
              "  </thead>\n",
              "  <tbody>\n",
              "    <tr>\n",
              "      <th>0</th>\n",
              "      <td>6</td>\n",
              "      <td>148</td>\n",
              "      <td>72</td>\n",
              "      <td>35</td>\n",
              "      <td>0</td>\n",
              "      <td>33.6</td>\n",
              "      <td>0.627</td>\n",
              "      <td>50</td>\n",
              "      <td>1</td>\n",
              "    </tr>\n",
              "    <tr>\n",
              "      <th>1</th>\n",
              "      <td>1</td>\n",
              "      <td>85</td>\n",
              "      <td>66</td>\n",
              "      <td>29</td>\n",
              "      <td>0</td>\n",
              "      <td>26.6</td>\n",
              "      <td>0.351</td>\n",
              "      <td>31</td>\n",
              "      <td>0</td>\n",
              "    </tr>\n",
              "    <tr>\n",
              "      <th>2</th>\n",
              "      <td>8</td>\n",
              "      <td>183</td>\n",
              "      <td>64</td>\n",
              "      <td>0</td>\n",
              "      <td>0</td>\n",
              "      <td>23.3</td>\n",
              "      <td>0.672</td>\n",
              "      <td>32</td>\n",
              "      <td>1</td>\n",
              "    </tr>\n",
              "    <tr>\n",
              "      <th>3</th>\n",
              "      <td>1</td>\n",
              "      <td>89</td>\n",
              "      <td>66</td>\n",
              "      <td>23</td>\n",
              "      <td>94</td>\n",
              "      <td>28.1</td>\n",
              "      <td>0.167</td>\n",
              "      <td>21</td>\n",
              "      <td>0</td>\n",
              "    </tr>\n",
              "    <tr>\n",
              "      <th>4</th>\n",
              "      <td>0</td>\n",
              "      <td>137</td>\n",
              "      <td>40</td>\n",
              "      <td>35</td>\n",
              "      <td>168</td>\n",
              "      <td>43.1</td>\n",
              "      <td>2.288</td>\n",
              "      <td>33</td>\n",
              "      <td>1</td>\n",
              "    </tr>\n",
              "    <tr>\n",
              "      <th>...</th>\n",
              "      <td>...</td>\n",
              "      <td>...</td>\n",
              "      <td>...</td>\n",
              "      <td>...</td>\n",
              "      <td>...</td>\n",
              "      <td>...</td>\n",
              "      <td>...</td>\n",
              "      <td>...</td>\n",
              "      <td>...</td>\n",
              "    </tr>\n",
              "    <tr>\n",
              "      <th>763</th>\n",
              "      <td>10</td>\n",
              "      <td>101</td>\n",
              "      <td>76</td>\n",
              "      <td>48</td>\n",
              "      <td>180</td>\n",
              "      <td>32.9</td>\n",
              "      <td>0.171</td>\n",
              "      <td>63</td>\n",
              "      <td>0</td>\n",
              "    </tr>\n",
              "    <tr>\n",
              "      <th>764</th>\n",
              "      <td>2</td>\n",
              "      <td>122</td>\n",
              "      <td>70</td>\n",
              "      <td>27</td>\n",
              "      <td>0</td>\n",
              "      <td>36.8</td>\n",
              "      <td>0.340</td>\n",
              "      <td>27</td>\n",
              "      <td>0</td>\n",
              "    </tr>\n",
              "    <tr>\n",
              "      <th>765</th>\n",
              "      <td>5</td>\n",
              "      <td>121</td>\n",
              "      <td>72</td>\n",
              "      <td>23</td>\n",
              "      <td>112</td>\n",
              "      <td>26.2</td>\n",
              "      <td>0.245</td>\n",
              "      <td>30</td>\n",
              "      <td>0</td>\n",
              "    </tr>\n",
              "    <tr>\n",
              "      <th>766</th>\n",
              "      <td>1</td>\n",
              "      <td>126</td>\n",
              "      <td>60</td>\n",
              "      <td>0</td>\n",
              "      <td>0</td>\n",
              "      <td>30.1</td>\n",
              "      <td>0.349</td>\n",
              "      <td>47</td>\n",
              "      <td>1</td>\n",
              "    </tr>\n",
              "    <tr>\n",
              "      <th>767</th>\n",
              "      <td>1</td>\n",
              "      <td>93</td>\n",
              "      <td>70</td>\n",
              "      <td>31</td>\n",
              "      <td>0</td>\n",
              "      <td>30.4</td>\n",
              "      <td>0.315</td>\n",
              "      <td>23</td>\n",
              "      <td>0</td>\n",
              "    </tr>\n",
              "  </tbody>\n",
              "</table>\n",
              "<p>768 rows × 9 columns</p>\n",
              "</div>"
            ],
            "text/plain": [
              "     Pregnancies  Glucose  ...  Age  Outcome\n",
              "0              6      148  ...   50        1\n",
              "1              1       85  ...   31        0\n",
              "2              8      183  ...   32        1\n",
              "3              1       89  ...   21        0\n",
              "4              0      137  ...   33        1\n",
              "..           ...      ...  ...  ...      ...\n",
              "763           10      101  ...   63        0\n",
              "764            2      122  ...   27        0\n",
              "765            5      121  ...   30        0\n",
              "766            1      126  ...   47        1\n",
              "767            1       93  ...   23        0\n",
              "\n",
              "[768 rows x 9 columns]"
            ]
          },
          "metadata": {
            "tags": []
          },
          "execution_count": 13
        }
      ]
    },
    {
      "cell_type": "markdown",
      "metadata": {
        "id": "GcqprginTVPr",
        "colab_type": "text"
      },
      "source": [
        "Verify that there are no columns that contain null values."
      ]
    },
    {
      "cell_type": "code",
      "metadata": {
        "id": "Q71A03jUTa2b",
        "colab_type": "code",
        "colab": {
          "base_uri": "https://localhost:8080/",
          "height": 191
        },
        "outputId": "94909caa-5d0c-4826-ded6-7587adeb0fca"
      },
      "source": [
        "diabetes.isnull().sum()"
      ],
      "execution_count": 14,
      "outputs": [
        {
          "output_type": "execute_result",
          "data": {
            "text/plain": [
              "Pregnancies                 0\n",
              "Glucose                     0\n",
              "BloodPressure               0\n",
              "SkinThickness               0\n",
              "Insulin                     0\n",
              "BMI                         0\n",
              "DiabetesPedigreeFunction    0\n",
              "Age                         0\n",
              "Outcome                     0\n",
              "dtype: int64"
            ]
          },
          "metadata": {
            "tags": []
          },
          "execution_count": 14
        }
      ]
    },
    {
      "cell_type": "markdown",
      "metadata": {
        "id": "FkHvJ6bWTb58",
        "colab_type": "text"
      },
      "source": [
        "In some but not all columns in this particular dataset, values of 0 indicate missing data. (Note: insulin measurements here are serum insulin levels and should never be 0.) Replace the zero values with `pd.NA` to indicate that the data is missing."
      ]
    },
    {
      "cell_type": "code",
      "metadata": {
        "id": "aItEoBwLd7zL",
        "colab_type": "code",
        "colab": {}
      },
      "source": [
        "diabetes = diabetes.replace({\n",
        "    'Glucose': {0: pd.NA},\n",
        "    'BloodPressure': {0: pd.NA},\n",
        "    'SkinThickness': {0: pd.NA},\n",
        "    'Insulin': {0: pd.NA},\n",
        "    'BMI': {0: pd.NA},\n",
        "    'DiabetesPedigreeFunction': {0: pd.NA},\n",
        "    'Age': {0: pd.NA}\n",
        "})"
      ],
      "execution_count": 0,
      "outputs": []
    },
    {
      "cell_type": "markdown",
      "metadata": {
        "id": "6u0r2wydestJ",
        "colab_type": "text"
      },
      "source": [
        "How many missing values were found in each column?"
      ]
    },
    {
      "cell_type": "code",
      "metadata": {
        "id": "2zcY2tVveu4r",
        "colab_type": "code",
        "colab": {
          "base_uri": "https://localhost:8080/",
          "height": 191
        },
        "outputId": "5d02a9a4-2ddd-4a16-ea7e-fc449a973147"
      },
      "source": [
        "diabetes.isnull().sum()"
      ],
      "execution_count": 16,
      "outputs": [
        {
          "output_type": "execute_result",
          "data": {
            "text/plain": [
              "Pregnancies                   0\n",
              "Glucose                       5\n",
              "BloodPressure                35\n",
              "SkinThickness               227\n",
              "Insulin                     374\n",
              "BMI                          11\n",
              "DiabetesPedigreeFunction      0\n",
              "Age                           0\n",
              "Outcome                       0\n",
              "dtype: int64"
            ]
          },
          "metadata": {
            "tags": []
          },
          "execution_count": 16
        }
      ]
    },
    {
      "cell_type": "markdown",
      "metadata": {
        "id": "rdcKkyxFg-nx",
        "colab_type": "text"
      },
      "source": [
        "What is the mean `Age`? How does the mean `Age` for participants with a `SkinThickness` (Triceps skin fold thickness in mm) value compare to those without a `SkinThickness` value?\n"
      ]
    },
    {
      "cell_type": "code",
      "metadata": {
        "id": "PCIScZbEh1QA",
        "colab_type": "code",
        "colab": {
          "base_uri": "https://localhost:8080/",
          "height": 34
        },
        "outputId": "816487e3-b235-4879-8046-35657c40684a"
      },
      "source": [
        "diabetes['Age'].mean()"
      ],
      "execution_count": 17,
      "outputs": [
        {
          "output_type": "execute_result",
          "data": {
            "text/plain": [
              "33.240885416666664"
            ]
          },
          "metadata": {
            "tags": []
          },
          "execution_count": 17
        }
      ]
    },
    {
      "cell_type": "code",
      "metadata": {
        "id": "5b_44ixRfmGm",
        "colab_type": "code",
        "colab": {
          "base_uri": "https://localhost:8080/",
          "height": 34
        },
        "outputId": "81b03082-9350-4416-db36-ce1914dbdfa7"
      },
      "source": [
        "diabetes[diabetes['SkinThickness'].notnull()]['Age'].mean()"
      ],
      "execution_count": 18,
      "outputs": [
        {
          "output_type": "execute_result",
          "data": {
            "text/plain": [
              "31.55822550831793"
            ]
          },
          "metadata": {
            "tags": []
          },
          "execution_count": 18
        }
      ]
    },
    {
      "cell_type": "code",
      "metadata": {
        "id": "VOAayBwdh8-T",
        "colab_type": "code",
        "colab": {
          "base_uri": "https://localhost:8080/",
          "height": 34
        },
        "outputId": "c454996e-0d3e-4d08-bb87-a6a608359a37"
      },
      "source": [
        "diabetes[diabetes['SkinThickness'].isnull()]['Age'].mean()"
      ],
      "execution_count": 19,
      "outputs": [
        {
          "output_type": "execute_result",
          "data": {
            "text/plain": [
              "37.25110132158591"
            ]
          },
          "metadata": {
            "tags": []
          },
          "execution_count": 19
        }
      ]
    },
    {
      "cell_type": "markdown",
      "metadata": {
        "id": "VNtY-SlwizkA",
        "colab_type": "text"
      },
      "source": [
        "Make a violin plot comparing the distribution of ages for people who do and do not have `SkinThickness` measurements. To make this easier, it may help to add a `hasThickness` column."
      ]
    },
    {
      "cell_type": "code",
      "metadata": {
        "id": "vVFq4cdnf-5s",
        "colab_type": "code",
        "colab": {
          "base_uri": "https://localhost:8080/",
          "height": 464
        },
        "outputId": "a2ffa13a-43d9-41bc-a86d-7dd8cba77f5b"
      },
      "source": [
        "diabetes['hasThickness'] = diabetes['SkinThickness'].notnull()\n",
        "p9.ggplot(diabetes, p9.aes(y='Age', x='hasThickness')) + p9.geom_violin()"
      ],
      "execution_count": 20,
      "outputs": [
        {
          "output_type": "display_data",
          "data": {
            "image/png": "[encoded data removed]",
            "text/plain": [
              "<Figure size 640x480 with 1 Axes>"
            ]
          },
          "metadata": {
            "tags": []
          }
        },
        {
          "output_type": "execute_result",
          "data": {
            "text/plain": [
              "<ggplot: (8749806405787)>"
            ]
          },
          "metadata": {
            "tags": []
          },
          "execution_count": 20
        }
      ]
    },
    {
      "cell_type": "markdown",
      "metadata": {
        "id": "8EYRaOpXjWGn",
        "colab_type": "text"
      },
      "source": [
        "What fraction of people under age 25 have `SkinThickness` measurements? What about people over age 50?"
      ]
    },
    {
      "cell_type": "code",
      "metadata": {
        "id": "OOHuXkCNkEpa",
        "colab_type": "code",
        "colab": {
          "base_uri": "https://localhost:8080/",
          "height": 34
        },
        "outputId": "0761e70e-692d-44e3-ffe7-c1f5b09f4943"
      },
      "source": [
        "population = diabetes[diabetes['Age'] < 25]\n",
        "(population['SkinThickness'].notnull().sum()) / len(population)"
      ],
      "execution_count": 21,
      "outputs": [
        {
          "output_type": "execute_result",
          "data": {
            "text/plain": [
              "0.8356164383561644"
            ]
          },
          "metadata": {
            "tags": []
          },
          "execution_count": 21
        }
      ]
    },
    {
      "cell_type": "code",
      "metadata": {
        "id": "SbpmTCH_kX3u",
        "colab_type": "code",
        "colab": {
          "base_uri": "https://localhost:8080/",
          "height": 34
        },
        "outputId": "09447370-a8db-44a8-9c45-916949bcb3ca"
      },
      "source": [
        "population = diabetes[diabetes['Age'] > 50]\n",
        "(population['SkinThickness'].notnull().sum()) / len(population)"
      ],
      "execution_count": 22,
      "outputs": [
        {
          "output_type": "execute_result",
          "data": {
            "text/plain": [
              "0.5061728395061729"
            ]
          },
          "metadata": {
            "tags": []
          },
          "execution_count": 22
        }
      ]
    },
    {
      "cell_type": "markdown",
      "metadata": {
        "id": "KOlvOaZHj__x",
        "colab_type": "text"
      },
      "source": [
        "Without attempting any further statistical tests, do you think the the missing values of `Skinthickness` are MAR, MCAR, or MNAR?"
      ]
    }
  ]
}