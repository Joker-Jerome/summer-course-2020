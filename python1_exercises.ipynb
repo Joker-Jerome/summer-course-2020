{
  "nbformat": 4,
  "nbformat_minor": 0,
  "metadata": {
    "colab": {
      "name": "python1-exercises.ipynb",
      "provenance": []
    },
    "kernelspec": {
      "name": "python3",
      "display_name": "Python 3"
    }
  },
  "cells": [
    {
      "cell_type": "markdown",
      "metadata": {
        "id": "EVAzbZQQKwhl",
        "colab_type": "text"
      },
      "source": [
        "Consider the following list of words:"
      ]
    },
    {
      "cell_type": "code",
      "metadata": {
        "id": "wYWFhAswKyP4",
        "colab_type": "code",
        "colab": {}
      },
      "source": [
        "words = [\n",
        "         \"In\", \"order\", \"to\", \"support\", \"research\", \"on\", \"genomics\",\n",
        "         \"proteomics\", \"signaling\", \"on\", \"the\", \"neostriatum\", \"in\",\n",
        "         \"rats\", \"and\", \"humans\", \"proteins\", \"arithmetic\", \"species\",\n",
        "         \"compiled\", \"significant\", \"differences\", \"in\", \"species\", \"primate\",\n",
        "         \"Designation\", \"of\", \"proteins\", \"without\", \"integration\",\n",
        "         \"designation\"\n",
        "]"
      ],
      "execution_count": 0,
      "outputs": []
    },
    {
      "cell_type": "markdown",
      "metadata": {
        "id": "kUbIRVVZLXEL",
        "colab_type": "text"
      },
      "source": [
        "How many words are in the `words` list? Use the `len` function to find out:"
      ]
    },
    {
      "cell_type": "code",
      "metadata": {
        "id": "jih_MXN5LViM",
        "colab_type": "code",
        "colab": {}
      },
      "source": [
        ""
      ],
      "execution_count": 0,
      "outputs": []
    },
    {
      "cell_type": "markdown",
      "metadata": {
        "id": "Znwhz0ArLuG1",
        "colab_type": "text"
      },
      "source": [
        "Copy-paste the list of words here, but (1) assign it to a different variable `my_words` and (2) replace the square brackets `[]` with curly brackets `{}` to create a **set**."
      ]
    },
    {
      "cell_type": "code",
      "metadata": {
        "id": "sAhO6XVULsiH",
        "colab_type": "code",
        "colab": {}
      },
      "source": [
        "my_words = {\"In\", \"order\", \"to\", \"support\", \"research\", \"on\", \"genomics\",\n",
        "         \"proteomics\", \"signaling\", \"on\", \"the\", \"neostriatum\", \"in\",\n",
        "         \"rats\", \"and\", \"humans\", \"proteins\", \"arithmetic\", \"species\",\n",
        "         \"compiled\", \"significant\", \"differences\", \"in\", \"species\", \"primate\",\n",
        "         \"Designation\", \"of\", \"proteins\", \"without\", \"integration\",\n",
        "         \"designation\"}"
      ],
      "execution_count": 0,
      "outputs": []
    },
    {
      "cell_type": "markdown",
      "metadata": {
        "id": "mJmYQtEEMTwJ",
        "colab_type": "text"
      },
      "source": [
        "Use the `len` function on `my_words` to find out how many unique words are in the set. (Remember, sets do not have repeats but lists do.)"
      ]
    },
    {
      "cell_type": "code",
      "metadata": {
        "id": "YITQGVzUMQPr",
        "colab_type": "code",
        "colab": {}
      },
      "source": [
        ""
      ],
      "execution_count": 0,
      "outputs": []
    },
    {
      "cell_type": "markdown",
      "metadata": {
        "id": "w8e6U7ITkM2J",
        "colab_type": "text"
      },
      "source": [
        "Do the words \"proteins\" and \"genes\" appear in the set of `my_words`? Check for them using `in`."
      ]
    },
    {
      "cell_type": "code",
      "metadata": {
        "id": "r3udvkBbkeME",
        "colab_type": "code",
        "colab": {}
      },
      "source": [
        ""
      ],
      "execution_count": 0,
      "outputs": []
    },
    {
      "cell_type": "code",
      "metadata": {
        "id": "sFQwjUyikeZd",
        "colab_type": "code",
        "colab": {}
      },
      "source": [
        ""
      ],
      "execution_count": 0,
      "outputs": []
    },
    {
      "cell_type": "markdown",
      "metadata": {
        "id": "hky3BML7cGmE",
        "colab_type": "text"
      },
      "source": [
        "Consider the following dictionary of patients and their data. The keys of the dictionary are unique identifiers assigned to each patient. This allows the system to distinguish multiple people with the same name."
      ]
    },
    {
      "cell_type": "code",
      "metadata": {
        "id": "KjY1GwmiMRTS",
        "colab_type": "code",
        "colab": {}
      },
      "source": [
        "patients = {\n",
        "    521236: {\n",
        "        'last_name': 'Dawson',\n",
        "        'first_name': 'Louise',\n",
        "        'temperatures': [37.7, 37.2, 37.5, 37.3],\n",
        "        'height': 1.49\n",
        "    },\n",
        "    627256: {\n",
        "        'last_name': 'Valencia',\n",
        "        'first_name': 'Thelma',\n",
        "        'temperatures': [36.5, 36.9],\n",
        "        'height': 1.74\n",
        "    },\n",
        "    876516: {\n",
        "        'last_name': 'Ventura',\n",
        "        'first_name': 'William',\n",
        "        'temperatures': [36.6, 36.8, 37.8, 37.2],\n",
        "        'height': 1.70\n",
        "    },\n",
        "    161451: {\n",
        "        'last_name': 'Shackelford',\n",
        "        'first_name': 'Steven',\n",
        "        'temperatures': [37.9, 38.4, 38.4],\n",
        "        'height': 1.67\n",
        "    },\n",
        "    623724: {\n",
        "        'last_name': 'Rzeczycki',\n",
        "        'first_name': 'Kristi',\n",
        "        'temperatures': [37.9, 37.8],\n",
        "        'height': 1.65\n",
        "    }\n",
        "}"
      ],
      "execution_count": 0,
      "outputs": []
    },
    {
      "cell_type": "markdown",
      "metadata": {
        "id": "QPSwHENMgyrK",
        "colab_type": "text"
      },
      "source": [
        "How many patients are there? Use `len` to find out."
      ]
    },
    {
      "cell_type": "code",
      "metadata": {
        "id": "24dNd5iMg4lV",
        "colab_type": "code",
        "colab": {}
      },
      "source": [
        ""
      ],
      "execution_count": 0,
      "outputs": []
    },
    {
      "cell_type": "markdown",
      "metadata": {
        "id": "Xz_2RUFDjEfd",
        "colab_type": "text"
      },
      "source": [
        "What is the height of patient 876516? Write code using `[]` to find out."
      ]
    },
    {
      "cell_type": "code",
      "metadata": {
        "id": "QFTtszUajKI0",
        "colab_type": "code",
        "colab": {}
      },
      "source": [
        ""
      ],
      "execution_count": 0,
      "outputs": []
    },
    {
      "cell_type": "markdown",
      "metadata": {
        "id": "akVNcnGUjKmZ",
        "colab_type": "text"
      },
      "source": [
        "Given that the height is measured in meters and that there are 2.54 cm for every inch, how tall is patient 876516 in inches? Write code to find out."
      ]
    },
    {
      "cell_type": "code",
      "metadata": {
        "id": "hkLa-_iMjzOm",
        "colab_type": "code",
        "colab": {}
      },
      "source": [
        ""
      ],
      "execution_count": 0,
      "outputs": []
    },
    {
      "cell_type": "markdown",
      "metadata": {
        "id": "i71n3LDTi0B2",
        "colab_type": "text"
      },
      "source": [
        "How many temperature readings have been made for patient 876516? Write code using `[]` and `len` to find out."
      ]
    },
    {
      "cell_type": "code",
      "metadata": {
        "id": "aA_U2XDhi-dZ",
        "colab_type": "code",
        "colab": {}
      },
      "source": [
        ""
      ],
      "execution_count": 0,
      "outputs": []
    },
    {
      "cell_type": "markdown",
      "metadata": {
        "id": "rN-np9Oyj8Xv",
        "colab_type": "text"
      },
      "source": [
        "What is the maximum temperature reading for patient 876516? Use `max`."
      ]
    },
    {
      "cell_type": "code",
      "metadata": {
        "id": "go3YArWpkBAI",
        "colab_type": "code",
        "colab": {}
      },
      "source": [
        ""
      ],
      "execution_count": 0,
      "outputs": []
    },
    {
      "cell_type": "markdown",
      "metadata": {
        "id": "oNv7uLgcknah",
        "colab_type": "text"
      },
      "source": [
        "What was the second temperature reading recorded for patient 876516? Use `[]`. Your answer should be 36.8. If you get a different answer, figure out why and fix your query."
      ]
    },
    {
      "cell_type": "code",
      "metadata": {
        "id": "ZN3tJ2e4lDGL",
        "colab_type": "code",
        "colab": {}
      },
      "source": [
        ""
      ],
      "execution_count": 0,
      "outputs": []
    },
    {
      "cell_type": "markdown",
      "metadata": {
        "id": "uTKfDKKCg47v",
        "colab_type": "text"
      },
      "source": [
        "Do we have data for the patient 531616? What about patient 161451? Test for them using `in`."
      ]
    },
    {
      "cell_type": "code",
      "metadata": {
        "id": "EVDuwqx6j3JK",
        "colab_type": "code",
        "colab": {}
      },
      "source": [
        ""
      ],
      "execution_count": 0,
      "outputs": []
    },
    {
      "cell_type": "markdown",
      "metadata": {
        "id": "EDx1mqlplXAz",
        "colab_type": "text"
      },
      "source": [
        "**append** a new temperature reading of 38.3 for patient 623724. After you have done so, find the maximum and minimum of their measured temperature values."
      ]
    },
    {
      "cell_type": "code",
      "metadata": {
        "id": "f_USiUcwlvXX",
        "colab_type": "code",
        "colab": {}
      },
      "source": [
        ""
      ],
      "execution_count": 0,
      "outputs": []
    },
    {
      "cell_type": "code",
      "metadata": {
        "id": "YpMXxWQllvam",
        "colab_type": "code",
        "colab": {}
      },
      "source": [
        ""
      ],
      "execution_count": 0,
      "outputs": []
    },
    {
      "cell_type": "code",
      "metadata": {
        "id": "xt8YUItrlvdU",
        "colab_type": "code",
        "colab": {}
      },
      "source": [
        ""
      ],
      "execution_count": 0,
      "outputs": []
    },
    {
      "cell_type": "markdown",
      "metadata": {
        "id": "P2h3kqsPl0Pw",
        "colab_type": "text"
      },
      "source": [
        "Add Susan Sinclair (patient 517235) to the dictionary. She is 1.67m tall and has never had her temperature recorded (i.e. the list is `[]`)."
      ]
    },
    {
      "cell_type": "code",
      "metadata": {
        "id": "TtdaEthfmfps",
        "colab_type": "code",
        "colab": {}
      },
      "source": [
        ""
      ],
      "execution_count": 0,
      "outputs": []
    },
    {
      "cell_type": "markdown",
      "metadata": {
        "id": "mwOcugmomopP",
        "colab_type": "text"
      },
      "source": [
        "Verify that you added her successfully by checking the number of patients in the dictionary. There should be six."
      ]
    },
    {
      "cell_type": "code",
      "metadata": {
        "id": "YpComTskmx1D",
        "colab_type": "code",
        "colab": {}
      },
      "source": [
        ""
      ],
      "execution_count": 0,
      "outputs": []
    },
    {
      "cell_type": "markdown",
      "metadata": {
        "id": "DFk5VlgXaJbn",
        "colab_type": "text"
      },
      "source": [
        "Suppose that the number of patients in your system doubles every 10 days. How many patients will you have in 30 days? Hint: start with the `len(patients)` you have now and multiply it by 2 raised to the power of the number of doublings (which you can compute using division)."
      ]
    },
    {
      "cell_type": "code",
      "metadata": {
        "id": "ULzXWvB-buSH",
        "colab_type": "code",
        "colab": {}
      },
      "source": [
        ""
      ],
      "execution_count": 0,
      "outputs": []
    }
  ]
}