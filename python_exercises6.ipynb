{
  "nbformat": 4,
  "nbformat_minor": 0,
  "metadata": {
    "colab": {
      "name": "python-exercises6.ipynb",
      "provenance": []
    },
    "kernelspec": {
      "name": "python3",
      "display_name": "Python 3"
    }
  },
  "cells": [
    {
      "cell_type": "markdown",
      "metadata": {
        "id": "2iiNvtpD1n72",
        "colab_type": "text"
      },
      "source": [
        "Let's begin by loading the `plotnine` module; call it `p9` for convenience."
      ]
    },
    {
      "cell_type": "code",
      "metadata": {
        "id": "qiisrphy1tHt",
        "colab_type": "code",
        "colab": {}
      },
      "source": [
        ""
      ],
      "execution_count": 0,
      "outputs": []
    },
    {
      "cell_type": "markdown",
      "metadata": {
        "id": "ASArtf6r2Scs",
        "colab_type": "text"
      },
      "source": [
        "We'll also need `pandas` (call it `pd`):"
      ]
    },
    {
      "cell_type": "code",
      "metadata": {
        "id": "ifk6Dj6y2XCA",
        "colab_type": "code",
        "colab": {}
      },
      "source": [
        ""
      ],
      "execution_count": 0,
      "outputs": []
    },
    {
      "cell_type": "markdown",
      "metadata": {
        "id": "U53QQLlx18-d",
        "colab_type": "text"
      },
      "source": [
        "Now load the **???** data from MIMIC:"
      ]
    },
    {
      "cell_type": "code",
      "metadata": {
        "id": "J__DChom1-kB",
        "colab_type": "code",
        "colab": {}
      },
      "source": [
        ""
      ],
      "execution_count": 0,
      "outputs": []
    },
    {
      "cell_type": "markdown",
      "metadata": {
        "id": "-YL5msTA2LaH",
        "colab_type": "text"
      },
      "source": [
        "Make a line plot of **???**:"
      ]
    },
    {
      "cell_type": "code",
      "metadata": {
        "id": "pZHQv7vd2RHu",
        "colab_type": "code",
        "colab": {}
      },
      "source": [
        ""
      ],
      "execution_count": 0,
      "outputs": []
    },
    {
      "cell_type": "markdown",
      "metadata": {
        "id": "tVoPWlnm5Ns9",
        "colab_type": "text"
      },
      "source": [
        "Add a title and set the x-limits to ???."
      ]
    },
    {
      "cell_type": "code",
      "metadata": {
        "id": "4u0fFw6p5Ywy",
        "colab_type": "code",
        "colab": {}
      },
      "source": [
        ""
      ],
      "execution_count": 0,
      "outputs": []
    },
    {
      "cell_type": "markdown",
      "metadata": {
        "id": "DpdXx0875e1p",
        "colab_type": "text"
      },
      "source": [
        "Change the above to use a log scale on the y-axis."
      ]
    },
    {
      "cell_type": "code",
      "metadata": {
        "id": "foafWPrU5eH0",
        "colab_type": "code",
        "colab": {}
      },
      "source": [
        ""
      ],
      "execution_count": 0,
      "outputs": []
    },
    {
      "cell_type": "markdown",
      "metadata": {
        "id": "mIHIgqkD2pCm",
        "colab_type": "text"
      },
      "source": [
        "Make a bar chart comparing the numbers of males vs females in the `patients` dataframe. Remember this information is in the `gender` column and you'll probably want to use the `value_counts` method."
      ]
    },
    {
      "cell_type": "code",
      "metadata": {
        "id": "jkXnCsaZ2vdL",
        "colab_type": "code",
        "colab": {}
      },
      "source": [
        ""
      ],
      "execution_count": 0,
      "outputs": []
    },
    {
      "cell_type": "markdown",
      "metadata": {
        "id": "UIHk7gc75Bwq",
        "colab_type": "text"
      },
      "source": [
        "Is there any data that can be done as a scatter plot? If so, do that."
      ]
    },
    {
      "cell_type": "code",
      "metadata": {
        "id": "seBGusgv5F5Z",
        "colab_type": "code",
        "colab": {}
      },
      "source": [
        ""
      ],
      "execution_count": 0,
      "outputs": []
    },
    {
      "cell_type": "markdown",
      "metadata": {
        "id": "73tCY6iF5GYN",
        "colab_type": "text"
      },
      "source": [
        "Color code the points in your scatter plot by gender:"
      ]
    },
    {
      "cell_type": "code",
      "metadata": {
        "id": "5fp2Riz15Jy3",
        "colab_type": "code",
        "colab": {}
      },
      "source": [
        ""
      ],
      "execution_count": 0,
      "outputs": []
    }
  ]
}