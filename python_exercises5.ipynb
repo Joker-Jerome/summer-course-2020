{
  "nbformat": 4,
  "nbformat_minor": 0,
  "metadata": {
    "colab": {
      "name": "python-exercises5.ipynb",
      "provenance": [],
      "collapsed_sections": []
    },
    "kernelspec": {
      "name": "python3",
      "display_name": "Python 3"
    }
  },
  "cells": [
    {
      "cell_type": "markdown",
      "metadata": {
        "id": "Xstda857njsy",
        "colab_type": "text"
      },
      "source": [
        "Run the following cell, which downloads `PATIENTS.csv` and `DIAGNOSES_ICD.csv` from the <a href=\"https://alpha.physionet.org/content/mimiciii-demo/1.4/\">MIMIC-III Clinical Database Demo</a> which licenses them under the <a href=\"https://opendatacommons.org/licenses/odbl/index.html\">ODC Open Database License (ODbl)</a>.\n",
        "\n",
        "**References:**\n",
        "\n",
        "Johnson, A., Pollard, T., Mark, R. (2019). MIMIC-III Clinical Database Demo. PhysioNet. doi:10.13026/C2HM2Q\n",
        "\n",
        "Johnson, A. E. W., Pollard, T. J., Shen, L., Lehman, L. H., Feng, M., Ghassemi, M., Moody, B., Szolovits, P., Celi, L. A., & Mark, R. G. (2016). MIMIC-III, a freely accessible critical care database. Scientific Data, 3, 160035.\n",
        "\n",
        "Goldberger AL, Amaral LAN, Glass L, Hausdorff JM, Ivanov PCh, Mark RG, Mietus JE, Moody GB, Peng C-K, Stanley HE. PhysioBank, PhysioToolkit, and PhysioNet: Components of a New Research Resource for Complex Physiologic Signals (2003). Circulation. 101(23):e215-e220."
      ]
    },
    {
      "cell_type": "code",
      "metadata": {
        "id": "M_ZQynXHmxDF",
        "colab_type": "code",
        "colab": {}
      },
      "source": [
        "!wget https://physionet.org/files/mimiciii-demo/1.4/PATIENTS.csv\n",
        "!wget https://physionet.org/files/mimiciii-demo/1.4/DIAGNOSES_ICD.csv"
      ],
      "execution_count": 0,
      "outputs": []
    },
    {
      "cell_type": "markdown",
      "metadata": {
        "id": "1Yz0xzdTqG9N",
        "colab_type": "text"
      },
      "source": [
        "Import the `pandas` library; for convenience, call it `pd`."
      ]
    },
    {
      "cell_type": "code",
      "metadata": {
        "id": "9-DvEwvXqMeV",
        "colab_type": "code",
        "colab": {}
      },
      "source": [
        ""
      ],
      "execution_count": 0,
      "outputs": []
    },
    {
      "cell_type": "markdown",
      "metadata": {
        "id": "ghItLA4mppmN",
        "colab_type": "text"
      },
      "source": [
        "Using `pd.read_csv`, load both files (`PATIENTS.csv` and `DIAGNOSES_ICD.csv`)."
      ]
    },
    {
      "cell_type": "code",
      "metadata": {
        "id": "U35KxKXJm1dd",
        "colab_type": "code",
        "colab": {}
      },
      "source": [
        ""
      ],
      "execution_count": 0,
      "outputs": []
    },
    {
      "cell_type": "markdown",
      "metadata": {
        "id": "sLxBo0bRp9dl",
        "colab_type": "text"
      },
      "source": [
        "Use the `.head()` method to get a sense of what each of the two data frames looks like. You will likely want to do this anytime you start working with new data:"
      ]
    },
    {
      "cell_type": "code",
      "metadata": {
        "id": "iEMk_CW4sN2G",
        "colab_type": "code",
        "colab": {}
      },
      "source": [
        ""
      ],
      "execution_count": 0,
      "outputs": []
    },
    {
      "cell_type": "code",
      "metadata": {
        "id": "URo9JJR-sN4j",
        "colab_type": "code",
        "colab": {}
      },
      "source": [
        ""
      ],
      "execution_count": 0,
      "outputs": []
    },
    {
      "cell_type": "markdown",
      "metadata": {
        "id": "WGIgbGN6sOiI",
        "colab_type": "text"
      },
      "source": [
        "You may have noticed that the patients data frame has a column `gender`. Run the `value_counts` method on the patients `gender` column to see how many males and females are in the data set."
      ]
    },
    {
      "cell_type": "code",
      "metadata": {
        "id": "IfaitE5BnFJ5",
        "colab_type": "code",
        "colab": {}
      },
      "source": [
        ""
      ],
      "execution_count": 0,
      "outputs": []
    },
    {
      "cell_type": "markdown",
      "metadata": {
        "id": "zPkZcw5ruF_d",
        "colab_type": "text"
      },
      "source": [
        "You may have also noticed that there are several timestamp columns, including `dob` (date of birth) and `dod` (date of death). By default, the computer is treating them as text. Replace the contents of these columns with the values converted into timestamps using `pd.to_datetime`."
      ]
    },
    {
      "cell_type": "code",
      "metadata": {
        "id": "vGFwLeVhu-3R",
        "colab_type": "code",
        "colab": {}
      },
      "source": [
        ""
      ],
      "execution_count": 0,
      "outputs": []
    },
    {
      "cell_type": "markdown",
      "metadata": {
        "id": "2W5slakHsvLu",
        "colab_type": "text"
      },
      "source": [
        "Can you tell the difference by looking at the head of `patients`?"
      ]
    },
    {
      "cell_type": "code",
      "metadata": {
        "id": "yj6Snifjtgih",
        "colab_type": "code",
        "colab": {}
      },
      "source": [
        ""
      ],
      "execution_count": 0,
      "outputs": []
    },
    {
      "cell_type": "markdown",
      "metadata": {
        "id": "AbtYyBGZktwP",
        "colab_type": "text"
      },
      "source": [
        "What's the earliest any of the patients were born? Use `min`."
      ]
    },
    {
      "cell_type": "code",
      "metadata": {
        "id": "PrBYSWcHkv3g",
        "colab_type": "code",
        "colab": {}
      },
      "source": [
        ""
      ],
      "execution_count": 0,
      "outputs": []
    },
    {
      "cell_type": "markdown",
      "metadata": {
        "id": "gke0movplSx-",
        "colab_type": "text"
      },
      "source": [
        "Which patient was born first?"
      ]
    },
    {
      "cell_type": "code",
      "metadata": {
        "id": "PYJxJXoalT4F",
        "colab_type": "code",
        "colab": {}
      },
      "source": [
        ""
      ],
      "execution_count": 0,
      "outputs": []
    },
    {
      "cell_type": "markdown",
      "metadata": {
        "id": "fBMeiAIx0UDV",
        "colab_type": "text"
      },
      "source": [
        "Find all the patients who were born before January 1, 2020."
      ]
    },
    {
      "cell_type": "code",
      "metadata": {
        "id": "hPPbVBdvth2B",
        "colab_type": "code",
        "colab": {}
      },
      "source": [
        ""
      ],
      "execution_count": 0,
      "outputs": []
    },
    {
      "cell_type": "markdown",
      "metadata": {
        "id": "jz74kKAC0bkH",
        "colab_type": "text"
      },
      "source": [
        "How many men were born before January 1, 2020? How many women? (Use `.value_counts()`)."
      ]
    },
    {
      "cell_type": "code",
      "metadata": {
        "id": "yq_vS6-C0xMB",
        "colab_type": "code",
        "colab": {}
      },
      "source": [
        ""
      ],
      "execution_count": 0,
      "outputs": []
    },
    {
      "cell_type": "markdown",
      "metadata": {
        "id": "UpX9ruDInLX3",
        "colab_type": "text"
      },
      "source": [
        "Using the data from `DIAGNOSES_ICD.csv`, how many patients (`subject_id`) recieved an `icd9_code` diagnosis of `'5070'` (the string)? How is this different from the number of times that diagnosis code appears in the dataset?\n",
        "\n",
        "*Hint: you will want to use the set function to turn a pandas series into a set*"
      ]
    },
    {
      "cell_type": "code",
      "metadata": {
        "id": "MYsnV-vYz2Nq",
        "colab_type": "code",
        "colab": {}
      },
      "source": [
        ""
      ],
      "execution_count": 0,
      "outputs": []
    },
    {
      "cell_type": "markdown",
      "metadata": {
        "id": "VDULFg9woojK",
        "colab_type": "text"
      },
      "source": [
        "Replace the use of `M` and `F` for identifying gender with the terms `'male'` and `'female'` in the `gender` column of `patients`. Use the data frame's `head` method with the appropriate argument to show the first 10 rows to make sure you did it right."
      ]
    },
    {
      "cell_type": "code",
      "metadata": {
        "id": "oFsq6SAsovQf",
        "colab_type": "code",
        "colab": {
          "base_uri": "https://localhost:8080/",
          "height": 363
        },
        "outputId": "215f63b3-f667-406b-d49e-92966e0b55a9"
      },
      "source": [
        "patients = patients.replace({'gender': {'F': 'female', 'M': 'male'}})\n",
        "patients.head(10)"
      ],
      "execution_count": 22,
      "outputs": [
        {
          "output_type": "execute_result",
          "data": {
            "text/html": [
              "<div>\n",
              "<style scoped>\n",
              "    .dataframe tbody tr th:only-of-type {\n",
              "        vertical-align: middle;\n",
              "    }\n",
              "\n",
              "    .dataframe tbody tr th {\n",
              "        vertical-align: top;\n",
              "    }\n",
              "\n",
              "    .dataframe thead th {\n",
              "        text-align: right;\n",
              "    }\n",
              "</style>\n",
              "<table border=\"1\" class=\"dataframe\">\n",
              "  <thead>\n",
              "    <tr style=\"text-align: right;\">\n",
              "      <th></th>\n",
              "      <th>row_id</th>\n",
              "      <th>subject_id</th>\n",
              "      <th>gender</th>\n",
              "      <th>dob</th>\n",
              "      <th>dod</th>\n",
              "      <th>dod_hosp</th>\n",
              "      <th>dod_ssn</th>\n",
              "      <th>expire_flag</th>\n",
              "    </tr>\n",
              "  </thead>\n",
              "  <tbody>\n",
              "    <tr>\n",
              "      <th>0</th>\n",
              "      <td>9467</td>\n",
              "      <td>10006</td>\n",
              "      <td>female</td>\n",
              "      <td>2094-03-05 00:00:00</td>\n",
              "      <td>2165-08-12 00:00:00</td>\n",
              "      <td>2165-08-12 00:00:00</td>\n",
              "      <td>2165-08-12 00:00:00</td>\n",
              "      <td>1</td>\n",
              "    </tr>\n",
              "    <tr>\n",
              "      <th>1</th>\n",
              "      <td>9472</td>\n",
              "      <td>10011</td>\n",
              "      <td>female</td>\n",
              "      <td>2090-06-05 00:00:00</td>\n",
              "      <td>2126-08-28 00:00:00</td>\n",
              "      <td>2126-08-28 00:00:00</td>\n",
              "      <td>NaN</td>\n",
              "      <td>1</td>\n",
              "    </tr>\n",
              "    <tr>\n",
              "      <th>2</th>\n",
              "      <td>9474</td>\n",
              "      <td>10013</td>\n",
              "      <td>female</td>\n",
              "      <td>2038-09-03 00:00:00</td>\n",
              "      <td>2125-10-07 00:00:00</td>\n",
              "      <td>2125-10-07 00:00:00</td>\n",
              "      <td>2125-10-07 00:00:00</td>\n",
              "      <td>1</td>\n",
              "    </tr>\n",
              "    <tr>\n",
              "      <th>3</th>\n",
              "      <td>9478</td>\n",
              "      <td>10017</td>\n",
              "      <td>female</td>\n",
              "      <td>2075-09-21 00:00:00</td>\n",
              "      <td>2152-09-12 00:00:00</td>\n",
              "      <td>NaN</td>\n",
              "      <td>2152-09-12 00:00:00</td>\n",
              "      <td>1</td>\n",
              "    </tr>\n",
              "    <tr>\n",
              "      <th>4</th>\n",
              "      <td>9479</td>\n",
              "      <td>10019</td>\n",
              "      <td>male</td>\n",
              "      <td>2114-06-20 00:00:00</td>\n",
              "      <td>2163-05-15 00:00:00</td>\n",
              "      <td>2163-05-15 00:00:00</td>\n",
              "      <td>2163-05-15 00:00:00</td>\n",
              "      <td>1</td>\n",
              "    </tr>\n",
              "    <tr>\n",
              "      <th>5</th>\n",
              "      <td>9486</td>\n",
              "      <td>10026</td>\n",
              "      <td>female</td>\n",
              "      <td>1895-05-17 00:00:00</td>\n",
              "      <td>2195-11-24 00:00:00</td>\n",
              "      <td>NaN</td>\n",
              "      <td>2195-11-24 00:00:00</td>\n",
              "      <td>1</td>\n",
              "    </tr>\n",
              "    <tr>\n",
              "      <th>6</th>\n",
              "      <td>9487</td>\n",
              "      <td>10027</td>\n",
              "      <td>female</td>\n",
              "      <td>2108-01-15 00:00:00</td>\n",
              "      <td>2190-09-14 00:00:00</td>\n",
              "      <td>NaN</td>\n",
              "      <td>2190-09-14 00:00:00</td>\n",
              "      <td>1</td>\n",
              "    </tr>\n",
              "    <tr>\n",
              "      <th>7</th>\n",
              "      <td>9489</td>\n",
              "      <td>10029</td>\n",
              "      <td>male</td>\n",
              "      <td>2061-04-10 00:00:00</td>\n",
              "      <td>2140-09-21 00:00:00</td>\n",
              "      <td>NaN</td>\n",
              "      <td>2140-09-21 00:00:00</td>\n",
              "      <td>1</td>\n",
              "    </tr>\n",
              "    <tr>\n",
              "      <th>8</th>\n",
              "      <td>9491</td>\n",
              "      <td>10032</td>\n",
              "      <td>male</td>\n",
              "      <td>2050-03-29 00:00:00</td>\n",
              "      <td>2138-05-21 00:00:00</td>\n",
              "      <td>2138-05-21 00:00:00</td>\n",
              "      <td>2138-05-21 00:00:00</td>\n",
              "      <td>1</td>\n",
              "    </tr>\n",
              "    <tr>\n",
              "      <th>9</th>\n",
              "      <td>9492</td>\n",
              "      <td>10033</td>\n",
              "      <td>female</td>\n",
              "      <td>2051-04-21 00:00:00</td>\n",
              "      <td>2133-09-09 00:00:00</td>\n",
              "      <td>NaN</td>\n",
              "      <td>2133-09-09 00:00:00</td>\n",
              "      <td>1</td>\n",
              "    </tr>\n",
              "  </tbody>\n",
              "</table>\n",
              "</div>"
            ],
            "text/plain": [
              "   row_id  subject_id  ...              dod_ssn expire_flag\n",
              "0    9467       10006  ...  2165-08-12 00:00:00           1\n",
              "1    9472       10011  ...                  NaN           1\n",
              "2    9474       10013  ...  2125-10-07 00:00:00           1\n",
              "3    9478       10017  ...  2152-09-12 00:00:00           1\n",
              "4    9479       10019  ...  2163-05-15 00:00:00           1\n",
              "5    9486       10026  ...  2195-11-24 00:00:00           1\n",
              "6    9487       10027  ...  2190-09-14 00:00:00           1\n",
              "7    9489       10029  ...  2140-09-21 00:00:00           1\n",
              "8    9491       10032  ...  2138-05-21 00:00:00           1\n",
              "9    9492       10033  ...  2133-09-09 00:00:00           1\n",
              "\n",
              "[10 rows x 8 columns]"
            ]
          },
          "metadata": {
            "tags": []
          },
          "execution_count": 22
        }
      ]
    },
    {
      "cell_type": "markdown",
      "metadata": {
        "id": "gwpoWCmYtHvG",
        "colab_type": "text"
      },
      "source": [
        "Finally, how many of the patients with a diagnosis code of `'5070'` are `male`? (Remember, the gender column should now have values of `male` and `female` not `M` and `F`.)\n",
        "\n",
        "*Hint: You will probably want to use the `isin` method*"
      ]
    },
    {
      "cell_type": "code",
      "metadata": {
        "id": "0ZNHFw2utepk",
        "colab_type": "code",
        "colab": {}
      },
      "source": [
        ""
      ],
      "execution_count": 0,
      "outputs": []
    }
  ]
}